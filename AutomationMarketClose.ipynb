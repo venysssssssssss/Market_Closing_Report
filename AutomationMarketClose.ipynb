{
 "cells": [
  {
   "cell_type": "markdown",
   "id": "7bec0308",
   "metadata": {},
   "source": [
    "# Projeto 1 - Relatório de fechamento de mercado por e-mail.\n",
    "\n",
    "\n",
    "### Desafio:\n",
    "\n",
    "* Construir um e-mail que chegue na caixa de entrada todos os dias com informações de fechamento do Ibovespa e dólar.\n",
    "\n",
    "### Passo a passo:\n",
    "\n",
    "   **Passo 1** - Importar os módulos e bibliotecas.\n",
    "   \n",
    "   **Passo 2** - Pegar dados do Ibovespa e do Dólar no Yahoo Finance.\n",
    "   \n",
    "   **Passo 3** - Manipular os dados para deixá-los nos formatos necessários para fazer as contas.\n",
    "   \n",
    "   **Passo 4** - Calcular o retorno diário, mensal e anual.\n",
    "   \n",
    "   **Passo 5** - Localizar, dentro das tabelas de retornos, os valores de fechamento de mercado que irão pro texto  anexado no e-mail.\n",
    "   \n",
    "   **Passo 6** - Fazer os gráficos dos ativos.\n",
    "   \n",
    "   **Passo 7** - Enviar o e-mail.\n"
   ]
  },
  {
   "cell_type": "code",
   "execution_count": 38,
   "id": "11e70f35",
   "metadata": {},
   "outputs": [
    {
     "name": "stdout",
     "output_type": "stream",
     "text": [
      "Defaulting to user installation because normal site-packages is not writeable\n",
      "Requirement already satisfied: python-dotenv in /home/venys/.local/lib/python3.10/site-packages (1.0.0)\n"
     ]
    }
   ],
   "source": [
    "!pip install python-dotenv"
   ]
  },
  {
   "cell_type": "markdown",
   "id": "b3062fc8",
   "metadata": {},
   "source": [
    "# Passo 1: Importando os módulos necessários"
   ]
  },
  {
   "cell_type": "code",
   "execution_count": 39,
   "id": "024f9e7d",
   "metadata": {
    "scrolled": true
   },
   "outputs": [],
   "source": [
    "import pandas as pd\n",
    "import datetime\n",
    "import yfinance as yf\n",
    "from matplotlib import pyplot as plt\n",
    "import mplcyberpunk\n",
    "import smtplib\n",
    "from email.message import EmailMessage"
   ]
  },
  {
   "cell_type": "markdown",
   "id": "b752fa2c",
   "metadata": {},
   "source": [
    "# Passo 2: Pegar dados no Yahoo Finance"
   ]
  },
  {
   "cell_type": "code",
   "execution_count": 40,
   "id": "a25af891",
   "metadata": {
    "scrolled": false
   },
   "outputs": [
    {
     "name": "stdout",
     "output_type": "stream",
     "text": [
      "[*********************100%***********************]  2 of 2 completed\n"
     ]
    },
    {
     "data": {
      "text/html": [
       "<div>\n",
       "<style scoped>\n",
       "    .dataframe tbody tr th:only-of-type {\n",
       "        vertical-align: middle;\n",
       "    }\n",
       "\n",
       "    .dataframe tbody tr th {\n",
       "        vertical-align: top;\n",
       "    }\n",
       "\n",
       "    .dataframe thead tr th {\n",
       "        text-align: left;\n",
       "    }\n",
       "\n",
       "    .dataframe thead tr:last-of-type th {\n",
       "        text-align: right;\n",
       "    }\n",
       "</style>\n",
       "<table border=\"1\" class=\"dataframe\">\n",
       "  <thead>\n",
       "    <tr>\n",
       "      <th></th>\n",
       "      <th colspan=\"2\" halign=\"left\">Adj Close</th>\n",
       "      <th colspan=\"2\" halign=\"left\">Close</th>\n",
       "      <th colspan=\"2\" halign=\"left\">High</th>\n",
       "      <th colspan=\"2\" halign=\"left\">Low</th>\n",
       "      <th colspan=\"2\" halign=\"left\">Open</th>\n",
       "      <th colspan=\"2\" halign=\"left\">Volume</th>\n",
       "    </tr>\n",
       "    <tr>\n",
       "      <th></th>\n",
       "      <th>BRL=X</th>\n",
       "      <th>^BVSP</th>\n",
       "      <th>BRL=X</th>\n",
       "      <th>^BVSP</th>\n",
       "      <th>BRL=X</th>\n",
       "      <th>^BVSP</th>\n",
       "      <th>BRL=X</th>\n",
       "      <th>^BVSP</th>\n",
       "      <th>BRL=X</th>\n",
       "      <th>^BVSP</th>\n",
       "      <th>BRL=X</th>\n",
       "      <th>^BVSP</th>\n",
       "    </tr>\n",
       "    <tr>\n",
       "      <th>Date</th>\n",
       "      <th></th>\n",
       "      <th></th>\n",
       "      <th></th>\n",
       "      <th></th>\n",
       "      <th></th>\n",
       "      <th></th>\n",
       "      <th></th>\n",
       "      <th></th>\n",
       "      <th></th>\n",
       "      <th></th>\n",
       "      <th></th>\n",
       "      <th></th>\n",
       "    </tr>\n",
       "  </thead>\n",
       "  <tbody>\n",
       "    <tr>\n",
       "      <th>2022-04-07</th>\n",
       "      <td>4.7152</td>\n",
       "      <td>118862.0</td>\n",
       "      <td>4.7152</td>\n",
       "      <td>118862.0</td>\n",
       "      <td>4.7699</td>\n",
       "      <td>119247.0</td>\n",
       "      <td>4.690400</td>\n",
       "      <td>117509.0</td>\n",
       "      <td>4.7152</td>\n",
       "      <td>118226.0</td>\n",
       "      <td>0</td>\n",
       "      <td>11520100.0</td>\n",
       "    </tr>\n",
       "    <tr>\n",
       "      <th>2022-04-08</th>\n",
       "      <td>4.7521</td>\n",
       "      <td>118322.0</td>\n",
       "      <td>4.7521</td>\n",
       "      <td>118322.0</td>\n",
       "      <td>4.7913</td>\n",
       "      <td>118868.0</td>\n",
       "      <td>4.707518</td>\n",
       "      <td>117487.0</td>\n",
       "      <td>4.7521</td>\n",
       "      <td>118861.0</td>\n",
       "      <td>0</td>\n",
       "      <td>11225800.0</td>\n",
       "    </tr>\n",
       "    <tr>\n",
       "      <th>2022-04-11</th>\n",
       "      <td>4.6981</td>\n",
       "      <td>116953.0</td>\n",
       "      <td>4.6981</td>\n",
       "      <td>116953.0</td>\n",
       "      <td>4.7326</td>\n",
       "      <td>118320.0</td>\n",
       "      <td>4.684016</td>\n",
       "      <td>116953.0</td>\n",
       "      <td>4.6980</td>\n",
       "      <td>118320.0</td>\n",
       "      <td>0</td>\n",
       "      <td>9558400.0</td>\n",
       "    </tr>\n",
       "    <tr>\n",
       "      <th>2022-04-12</th>\n",
       "      <td>4.6936</td>\n",
       "      <td>116147.0</td>\n",
       "      <td>4.6936</td>\n",
       "      <td>116147.0</td>\n",
       "      <td>4.6971</td>\n",
       "      <td>118615.0</td>\n",
       "      <td>4.621500</td>\n",
       "      <td>116054.0</td>\n",
       "      <td>4.6936</td>\n",
       "      <td>116963.0</td>\n",
       "      <td>0</td>\n",
       "      <td>11406800.0</td>\n",
       "    </tr>\n",
       "    <tr>\n",
       "      <th>2022-04-13</th>\n",
       "      <td>4.6731</td>\n",
       "      <td>116782.0</td>\n",
       "      <td>4.6731</td>\n",
       "      <td>116782.0</td>\n",
       "      <td>4.7023</td>\n",
       "      <td>117329.0</td>\n",
       "      <td>4.653200</td>\n",
       "      <td>116150.0</td>\n",
       "      <td>4.6731</td>\n",
       "      <td>116150.0</td>\n",
       "      <td>0</td>\n",
       "      <td>12070500.0</td>\n",
       "    </tr>\n",
       "    <tr>\n",
       "      <th>...</th>\n",
       "      <td>...</td>\n",
       "      <td>...</td>\n",
       "      <td>...</td>\n",
       "      <td>...</td>\n",
       "      <td>...</td>\n",
       "      <td>...</td>\n",
       "      <td>...</td>\n",
       "      <td>...</td>\n",
       "      <td>...</td>\n",
       "      <td>...</td>\n",
       "      <td>...</td>\n",
       "      <td>...</td>\n",
       "    </tr>\n",
       "    <tr>\n",
       "      <th>2023-03-31</th>\n",
       "      <td>5.0927</td>\n",
       "      <td>101882.0</td>\n",
       "      <td>5.0927</td>\n",
       "      <td>101882.0</td>\n",
       "      <td>5.1033</td>\n",
       "      <td>104041.0</td>\n",
       "      <td>5.055200</td>\n",
       "      <td>101476.0</td>\n",
       "      <td>5.0927</td>\n",
       "      <td>103714.0</td>\n",
       "      <td>0</td>\n",
       "      <td>15111200.0</td>\n",
       "    </tr>\n",
       "    <tr>\n",
       "      <th>2023-04-03</th>\n",
       "      <td>5.0623</td>\n",
       "      <td>101506.0</td>\n",
       "      <td>5.0623</td>\n",
       "      <td>101506.0</td>\n",
       "      <td>5.0755</td>\n",
       "      <td>101916.0</td>\n",
       "      <td>5.036216</td>\n",
       "      <td>100651.0</td>\n",
       "      <td>5.0623</td>\n",
       "      <td>101883.0</td>\n",
       "      <td>0</td>\n",
       "      <td>12794800.0</td>\n",
       "    </tr>\n",
       "    <tr>\n",
       "      <th>2023-04-04</th>\n",
       "      <td>5.0631</td>\n",
       "      <td>101869.0</td>\n",
       "      <td>5.0631</td>\n",
       "      <td>101869.0</td>\n",
       "      <td>5.0976</td>\n",
       "      <td>103056.0</td>\n",
       "      <td>5.048277</td>\n",
       "      <td>101505.0</td>\n",
       "      <td>5.0631</td>\n",
       "      <td>101505.0</td>\n",
       "      <td>0</td>\n",
       "      <td>11695800.0</td>\n",
       "    </tr>\n",
       "    <tr>\n",
       "      <th>2023-04-05</th>\n",
       "      <td>5.0707</td>\n",
       "      <td>100978.0</td>\n",
       "      <td>5.0707</td>\n",
       "      <td>100978.0</td>\n",
       "      <td>5.0743</td>\n",
       "      <td>101960.0</td>\n",
       "      <td>5.027504</td>\n",
       "      <td>99898.0</td>\n",
       "      <td>5.0707</td>\n",
       "      <td>101869.0</td>\n",
       "      <td>0</td>\n",
       "      <td>13256500.0</td>\n",
       "    </tr>\n",
       "    <tr>\n",
       "      <th>2023-04-06</th>\n",
       "      <td>5.0332</td>\n",
       "      <td>100822.0</td>\n",
       "      <td>5.0332</td>\n",
       "      <td>100822.0</td>\n",
       "      <td>5.0789</td>\n",
       "      <td>101628.0</td>\n",
       "      <td>5.028911</td>\n",
       "      <td>100443.0</td>\n",
       "      <td>5.0332</td>\n",
       "      <td>100978.0</td>\n",
       "      <td>0</td>\n",
       "      <td>9818500.0</td>\n",
       "    </tr>\n",
       "  </tbody>\n",
       "</table>\n",
       "<p>261 rows × 12 columns</p>\n",
       "</div>"
      ],
      "text/plain": [
       "           Adj Close             Close              High                 Low  \\\n",
       "               BRL=X     ^BVSP   BRL=X     ^BVSP   BRL=X     ^BVSP     BRL=X   \n",
       "Date                                                                           \n",
       "2022-04-07    4.7152  118862.0  4.7152  118862.0  4.7699  119247.0  4.690400   \n",
       "2022-04-08    4.7521  118322.0  4.7521  118322.0  4.7913  118868.0  4.707518   \n",
       "2022-04-11    4.6981  116953.0  4.6981  116953.0  4.7326  118320.0  4.684016   \n",
       "2022-04-12    4.6936  116147.0  4.6936  116147.0  4.6971  118615.0  4.621500   \n",
       "2022-04-13    4.6731  116782.0  4.6731  116782.0  4.7023  117329.0  4.653200   \n",
       "...              ...       ...     ...       ...     ...       ...       ...   \n",
       "2023-03-31    5.0927  101882.0  5.0927  101882.0  5.1033  104041.0  5.055200   \n",
       "2023-04-03    5.0623  101506.0  5.0623  101506.0  5.0755  101916.0  5.036216   \n",
       "2023-04-04    5.0631  101869.0  5.0631  101869.0  5.0976  103056.0  5.048277   \n",
       "2023-04-05    5.0707  100978.0  5.0707  100978.0  5.0743  101960.0  5.027504   \n",
       "2023-04-06    5.0332  100822.0  5.0332  100822.0  5.0789  101628.0  5.028911   \n",
       "\n",
       "                        Open           Volume              \n",
       "               ^BVSP   BRL=X     ^BVSP  BRL=X       ^BVSP  \n",
       "Date                                                       \n",
       "2022-04-07  117509.0  4.7152  118226.0      0  11520100.0  \n",
       "2022-04-08  117487.0  4.7521  118861.0      0  11225800.0  \n",
       "2022-04-11  116953.0  4.6980  118320.0      0   9558400.0  \n",
       "2022-04-12  116054.0  4.6936  116963.0      0  11406800.0  \n",
       "2022-04-13  116150.0  4.6731  116150.0      0  12070500.0  \n",
       "...              ...     ...       ...    ...         ...  \n",
       "2023-03-31  101476.0  5.0927  103714.0      0  15111200.0  \n",
       "2023-04-03  100651.0  5.0623  101883.0      0  12794800.0  \n",
       "2023-04-04  101505.0  5.0631  101505.0      0  11695800.0  \n",
       "2023-04-05   99898.0  5.0707  101869.0      0  13256500.0  \n",
       "2023-04-06  100443.0  5.0332  100978.0      0   9818500.0  \n",
       "\n",
       "[261 rows x 12 columns]"
      ]
     },
     "metadata": {},
     "output_type": "display_data"
    }
   ],
   "source": [
    "ativos = [\"^BVSP\", \"BRL=X\"]\n",
    "\n",
    "hoje = datetime.datetime.now()\n",
    "um_ano_atras = hoje - datetime.timedelta(days = 365)\n",
    "\n",
    "dados_mercado = yf.download(ativos, um_ano_atras, hoje)\n",
    "\n",
    "display(dados_mercado)"
   ]
  },
  {
   "cell_type": "markdown",
   "id": "a43b1c2a",
   "metadata": {},
   "source": [
    "# Passo 3.1: Manipulando os dados - seleção e exclusão de dados "
   ]
  },
  {
   "cell_type": "code",
   "execution_count": 41,
   "id": "4959c4e4",
   "metadata": {
    "scrolled": true
   },
   "outputs": [
    {
     "data": {
      "text/html": [
       "<div>\n",
       "<style scoped>\n",
       "    .dataframe tbody tr th:only-of-type {\n",
       "        vertical-align: middle;\n",
       "    }\n",
       "\n",
       "    .dataframe tbody tr th {\n",
       "        vertical-align: top;\n",
       "    }\n",
       "\n",
       "    .dataframe thead th {\n",
       "        text-align: right;\n",
       "    }\n",
       "</style>\n",
       "<table border=\"1\" class=\"dataframe\">\n",
       "  <thead>\n",
       "    <tr style=\"text-align: right;\">\n",
       "      <th></th>\n",
       "      <th>dolar</th>\n",
       "      <th>ibovespa</th>\n",
       "    </tr>\n",
       "    <tr>\n",
       "      <th>Date</th>\n",
       "      <th></th>\n",
       "      <th></th>\n",
       "    </tr>\n",
       "  </thead>\n",
       "  <tbody>\n",
       "    <tr>\n",
       "      <th>2022-04-07</th>\n",
       "      <td>4.7152</td>\n",
       "      <td>118862.0</td>\n",
       "    </tr>\n",
       "    <tr>\n",
       "      <th>2022-04-08</th>\n",
       "      <td>4.7521</td>\n",
       "      <td>118322.0</td>\n",
       "    </tr>\n",
       "    <tr>\n",
       "      <th>2022-04-11</th>\n",
       "      <td>4.6981</td>\n",
       "      <td>116953.0</td>\n",
       "    </tr>\n",
       "    <tr>\n",
       "      <th>2022-04-12</th>\n",
       "      <td>4.6936</td>\n",
       "      <td>116147.0</td>\n",
       "    </tr>\n",
       "    <tr>\n",
       "      <th>2022-04-13</th>\n",
       "      <td>4.6731</td>\n",
       "      <td>116782.0</td>\n",
       "    </tr>\n",
       "    <tr>\n",
       "      <th>...</th>\n",
       "      <td>...</td>\n",
       "      <td>...</td>\n",
       "    </tr>\n",
       "    <tr>\n",
       "      <th>2023-03-31</th>\n",
       "      <td>5.0927</td>\n",
       "      <td>101882.0</td>\n",
       "    </tr>\n",
       "    <tr>\n",
       "      <th>2023-04-03</th>\n",
       "      <td>5.0623</td>\n",
       "      <td>101506.0</td>\n",
       "    </tr>\n",
       "    <tr>\n",
       "      <th>2023-04-04</th>\n",
       "      <td>5.0631</td>\n",
       "      <td>101869.0</td>\n",
       "    </tr>\n",
       "    <tr>\n",
       "      <th>2023-04-05</th>\n",
       "      <td>5.0707</td>\n",
       "      <td>100978.0</td>\n",
       "    </tr>\n",
       "    <tr>\n",
       "      <th>2023-04-06</th>\n",
       "      <td>5.0332</td>\n",
       "      <td>100822.0</td>\n",
       "    </tr>\n",
       "  </tbody>\n",
       "</table>\n",
       "<p>251 rows × 2 columns</p>\n",
       "</div>"
      ],
      "text/plain": [
       "             dolar  ibovespa\n",
       "Date                        \n",
       "2022-04-07  4.7152  118862.0\n",
       "2022-04-08  4.7521  118322.0\n",
       "2022-04-11  4.6981  116953.0\n",
       "2022-04-12  4.6936  116147.0\n",
       "2022-04-13  4.6731  116782.0\n",
       "...            ...       ...\n",
       "2023-03-31  5.0927  101882.0\n",
       "2023-04-03  5.0623  101506.0\n",
       "2023-04-04  5.0631  101869.0\n",
       "2023-04-05  5.0707  100978.0\n",
       "2023-04-06  5.0332  100822.0\n",
       "\n",
       "[251 rows x 2 columns]"
      ]
     },
     "execution_count": 41,
     "metadata": {},
     "output_type": "execute_result"
    }
   ],
   "source": [
    "dados_fechamento = dados_mercado['Adj Close']\n",
    "dados_fechamento.columns = ['dolar', 'ibovespa']\n",
    "dados_fechamento = dados_fechamento.dropna()\n",
    "\n",
    "dados_fechamento"
   ]
  },
  {
   "cell_type": "markdown",
   "id": "ada33878",
   "metadata": {},
   "source": [
    "# Passo 3.2: Manipulando os dados - Criando tabelas com outros timeframes. "
   ]
  },
  {
   "cell_type": "code",
   "execution_count": 42,
   "id": "484d488f",
   "metadata": {
    "scrolled": false
   },
   "outputs": [
    {
     "data": {
      "text/html": [
       "<div>\n",
       "<style scoped>\n",
       "    .dataframe tbody tr th:only-of-type {\n",
       "        vertical-align: middle;\n",
       "    }\n",
       "\n",
       "    .dataframe tbody tr th {\n",
       "        vertical-align: top;\n",
       "    }\n",
       "\n",
       "    .dataframe thead th {\n",
       "        text-align: right;\n",
       "    }\n",
       "</style>\n",
       "<table border=\"1\" class=\"dataframe\">\n",
       "  <thead>\n",
       "    <tr style=\"text-align: right;\">\n",
       "      <th></th>\n",
       "      <th>dolar</th>\n",
       "      <th>ibovespa</th>\n",
       "    </tr>\n",
       "    <tr>\n",
       "      <th>Date</th>\n",
       "      <th></th>\n",
       "      <th></th>\n",
       "    </tr>\n",
       "  </thead>\n",
       "  <tbody>\n",
       "    <tr>\n",
       "      <th>2022-12-31</th>\n",
       "      <td>5.2668</td>\n",
       "      <td>110031.0</td>\n",
       "    </tr>\n",
       "    <tr>\n",
       "      <th>2023-12-31</th>\n",
       "      <td>5.0332</td>\n",
       "      <td>100822.0</td>\n",
       "    </tr>\n",
       "  </tbody>\n",
       "</table>\n",
       "</div>"
      ],
      "text/plain": [
       "             dolar  ibovespa\n",
       "Date                        \n",
       "2022-12-31  5.2668  110031.0\n",
       "2023-12-31  5.0332  100822.0"
      ]
     },
     "execution_count": 42,
     "metadata": {},
     "output_type": "execute_result"
    }
   ],
   "source": [
    "dados_fechamento_mensal = dados_fechamento.resample(\"M\").last()\n",
    "dados_fechamento_anual = dados_fechamento.resample(\"Y\").last()\n",
    "\n",
    "dados_fechamento_anual"
   ]
  },
  {
   "cell_type": "markdown",
   "id": "8cda978d",
   "metadata": {},
   "source": [
    "# Passo 4 - Calcular fechamento do dia, retorno no ano e retorno no mês dos ativos. "
   ]
  },
  {
   "cell_type": "code",
   "execution_count": 43,
   "id": "41672272",
   "metadata": {
    "scrolled": false
   },
   "outputs": [
    {
     "data": {
      "text/html": [
       "<div>\n",
       "<style scoped>\n",
       "    .dataframe tbody tr th:only-of-type {\n",
       "        vertical-align: middle;\n",
       "    }\n",
       "\n",
       "    .dataframe tbody tr th {\n",
       "        vertical-align: top;\n",
       "    }\n",
       "\n",
       "    .dataframe thead th {\n",
       "        text-align: right;\n",
       "    }\n",
       "</style>\n",
       "<table border=\"1\" class=\"dataframe\">\n",
       "  <thead>\n",
       "    <tr style=\"text-align: right;\">\n",
       "      <th></th>\n",
       "      <th>dolar</th>\n",
       "      <th>ibovespa</th>\n",
       "    </tr>\n",
       "    <tr>\n",
       "      <th>Date</th>\n",
       "      <th></th>\n",
       "      <th></th>\n",
       "    </tr>\n",
       "  </thead>\n",
       "  <tbody>\n",
       "    <tr>\n",
       "      <th>2022-04-08</th>\n",
       "      <td>0.007826</td>\n",
       "      <td>-0.004543</td>\n",
       "    </tr>\n",
       "    <tr>\n",
       "      <th>2022-04-11</th>\n",
       "      <td>-0.011363</td>\n",
       "      <td>-0.011570</td>\n",
       "    </tr>\n",
       "    <tr>\n",
       "      <th>2022-04-12</th>\n",
       "      <td>-0.000958</td>\n",
       "      <td>-0.006892</td>\n",
       "    </tr>\n",
       "    <tr>\n",
       "      <th>2022-04-13</th>\n",
       "      <td>-0.004368</td>\n",
       "      <td>0.005467</td>\n",
       "    </tr>\n",
       "    <tr>\n",
       "      <th>2022-04-14</th>\n",
       "      <td>0.003659</td>\n",
       "      <td>-0.005138</td>\n",
       "    </tr>\n",
       "    <tr>\n",
       "      <th>...</th>\n",
       "      <td>...</td>\n",
       "      <td>...</td>\n",
       "    </tr>\n",
       "    <tr>\n",
       "      <th>2023-03-31</th>\n",
       "      <td>-0.008083</td>\n",
       "      <td>-0.017654</td>\n",
       "    </tr>\n",
       "    <tr>\n",
       "      <th>2023-04-03</th>\n",
       "      <td>-0.005969</td>\n",
       "      <td>-0.003691</td>\n",
       "    </tr>\n",
       "    <tr>\n",
       "      <th>2023-04-04</th>\n",
       "      <td>0.000158</td>\n",
       "      <td>0.003576</td>\n",
       "    </tr>\n",
       "    <tr>\n",
       "      <th>2023-04-05</th>\n",
       "      <td>0.001501</td>\n",
       "      <td>-0.008747</td>\n",
       "    </tr>\n",
       "    <tr>\n",
       "      <th>2023-04-06</th>\n",
       "      <td>-0.007396</td>\n",
       "      <td>-0.001545</td>\n",
       "    </tr>\n",
       "  </tbody>\n",
       "</table>\n",
       "<p>250 rows × 2 columns</p>\n",
       "</div>"
      ],
      "text/plain": [
       "               dolar  ibovespa\n",
       "Date                          \n",
       "2022-04-08  0.007826 -0.004543\n",
       "2022-04-11 -0.011363 -0.011570\n",
       "2022-04-12 -0.000958 -0.006892\n",
       "2022-04-13 -0.004368  0.005467\n",
       "2022-04-14  0.003659 -0.005138\n",
       "...              ...       ...\n",
       "2023-03-31 -0.008083 -0.017654\n",
       "2023-04-03 -0.005969 -0.003691\n",
       "2023-04-04  0.000158  0.003576\n",
       "2023-04-05  0.001501 -0.008747\n",
       "2023-04-06 -0.007396 -0.001545\n",
       "\n",
       "[250 rows x 2 columns]"
      ]
     },
     "execution_count": 43,
     "metadata": {},
     "output_type": "execute_result"
    }
   ],
   "source": [
    "retorno_no_ano = dados_fechamento_anual.pct_change().dropna()\n",
    "retorno_no_mes = dados_fechamento_mensal.pct_change().dropna()\n",
    "retorno_no_dia = dados_fechamento.pct_change().dropna()\n",
    "\n",
    "retorno_no_dia"
   ]
  },
  {
   "cell_type": "markdown",
   "id": "0d0bcc0e",
   "metadata": {},
   "source": [
    "# Passo 5 - Localizar o fechamento do dia anterior, retorno no mês e retorno no ano.\n",
    "\n",
    "* Loc -> referenciar elementos a partir do nome\n",
    "* Iloc -> selecionar elementos como uma matriz"
   ]
  },
  {
   "cell_type": "code",
   "execution_count": 44,
   "id": "c6267439",
   "metadata": {},
   "outputs": [
    {
     "data": {
      "text/plain": [
       "-0.044353334637057595"
      ]
     },
     "execution_count": 44,
     "metadata": {},
     "output_type": "execute_result"
    }
   ],
   "source": [
    "retorno_dia_dolar = retorno_no_dia.iloc[-1, 0]\n",
    "retorno_dia_ibovespa = retorno_no_dia.iloc[-1, 1]\n",
    "\n",
    "retorno_mes_dolar = retorno_no_mes.iloc[-1, 0]\n",
    "retorno_mes_ibovespa = retorno_no_mes.iloc[-1, 1]\n",
    "\n",
    "retorno_ano_dolar = retorno_no_ano.iloc[-1, 0]\n",
    "retorno_ano_ibovespa = retorno_no_ano.iloc[-1, 1]\n",
    "\n",
    "retorno_ano_dolar"
   ]
  },
  {
   "cell_type": "code",
   "execution_count": 45,
   "id": "fc4a9725",
   "metadata": {},
   "outputs": [],
   "source": [
    "retorno_dia_dolar = round(retorno_dia_dolar * 100, 2)\n",
    "retorno_dia_ibovespa = round(retorno_dia_ibovespa * 100, 2)\n",
    "\n",
    "retorno_mes_dolar = round(retorno_mes_dolar * 100, 2)\n",
    "retorno_mes_ibovespa = round(retorno_mes_ibovespa * 100, 2)\n",
    "\n",
    "retorno_ano_dolar = round(retorno_ano_dolar * 100, 2)\n",
    "retorno_ano_ibovespa = round(retorno_ano_ibovespa * 100, 2)"
   ]
  },
  {
   "cell_type": "markdown",
   "id": "9b23491f",
   "metadata": {},
   "source": [
    "# Passo 6 - Fazer os gráficos da performance do último dos ativos"
   ]
  },
  {
   "cell_type": "code",
   "execution_count": 46,
   "id": "8f72b381",
   "metadata": {},
   "outputs": [
    {
     "data": {
      "image/png": "[encoded data removed]",
      "text/plain": [
       "<Figure size 640x480 with 1 Axes>"
      ]
     },
     "metadata": {},
     "output_type": "display_data"
    }
   ],
   "source": [
    "plt.style.use(\"cyberpunk\")\n",
    "\n",
    "dados_fechamento.plot(y = 'ibovespa', use_index = True, legend = False)\n",
    "\n",
    "plt.title(\"Ibovespa\")\n",
    "\n",
    "plt.savefig('ibovespa.png', dpi = 300)\n",
    "\n",
    "plt.show()"
   ]
  },
  {
   "cell_type": "code",
   "execution_count": 47,
   "id": "6b3c44c3",
   "metadata": {},
   "outputs": [
    {
     "data": {
      "image/png": "[encoded data removed]",
      "text/plain": [
       "<Figure size 640x480 with 1 Axes>"
      ]
     },
     "metadata": {},
     "output_type": "display_data"
    }
   ],
   "source": [
    "plt.style.use(\"cyberpunk\")\n",
    "\n",
    "dados_fechamento.plot(y = 'dolar', use_index = True, legend = False)\n",
    "\n",
    "plt.title(\"Dolar\")\n",
    "\n",
    "plt.savefig('dolar.png', dpi = 300)\n",
    "\n",
    "plt.show()"
   ]
  },
  {
   "cell_type": "markdown",
   "id": "e3f516b6",
   "metadata": {},
   "source": [
    "# Passo 7: Enviar e-mail\n",
    "\n",
    "https://myaccount.google.com/apppasswords"
   ]
  },
  {
   "cell_type": "code",
   "execution_count": 48,
   "id": "bb1d8729",
   "metadata": {},
   "outputs": [],
   "source": [
    "import os\n",
    "from dotenv import load_dotenv"
   ]
  },
  {
   "cell_type": "code",
   "execution_count": 49,
   "id": "5d75c7ae",
   "metadata": {
    "scrolled": true
   },
   "outputs": [
    {
     "data": {
      "text/plain": [
       "False"
      ]
     },
     "execution_count": 49,
     "metadata": {},
     "output_type": "execute_result"
    }
   ],
   "source": [
    "load_dotenv()"
   ]
  },
  {
   "cell_type": "code",
   "execution_count": 50,
   "id": "c0676126",
   "metadata": {},
   "outputs": [],
   "source": [
    "senha = os.environ.get(\"senha_email\")\n",
    "email = 'viniciussport2004@gmail.com'"
   ]
  },
  {
   "cell_type": "code",
   "execution_count": 51,
   "id": "d843834d",
   "metadata": {},
   "outputs": [
    {
     "data": {
      "text/plain": [
       "-8.37"
      ]
     },
     "execution_count": 51,
     "metadata": {},
     "output_type": "execute_result"
    }
   ],
   "source": [
    "retorno_ano_ibovespa"
   ]
  },
  {
   "cell_type": "code",
   "execution_count": 52,
   "id": "09720b00",
   "metadata": {},
   "outputs": [],
   "source": [
    "msg = EmailMessage()\n",
    "msg['Subject'] = \"Enviando e-mail com o Python\"\n",
    "msg['From'] = 'viniciussport2004@gmail.com'\n",
    "msg['To'] = 'shablaur7@hotmail.com'\n",
    "\n",
    "msg.set_content(f'''Prezado diretor, segue o relatório diário:\n",
    "\n",
    "Bolsa:\n",
    "\n",
    "No ano o Ibovespa está tendo uma rentabilidade de {retorno_ano_ibovespa}%, \n",
    "enquanto no mês a rentabilidade é de {retorno_mes_ibovespa}%.\n",
    "\n",
    "No último dia útil, o fechamento do Ibovespa foi de {retorno_dia_ibovespa}%.\n",
    "\n",
    "Dólar:\n",
    "\n",
    "No ano o Dólar está tendo uma rentabilidade de {retorno_ano_dolar}%, \n",
    "enquanto no mês a rentabilidade é de {retorno_mes_dolar}%.\n",
    "\n",
    "No último dia útil, o fechamento do Dólar foi de {retorno_dia_dolar}%.\n",
    "\n",
    "\n",
    "Abs,\n",
    "\n",
    "O melhor estagiário do mundo\n",
    "\n",
    "''')"
   ]
  },
  {
   "cell_type": "code",
   "execution_count": 53,
   "id": "46ff0d22",
   "metadata": {},
   "outputs": [],
   "source": [
    "with open('dolar.png', 'rb') as content_file:\n",
    "    content = content_file.read()\n",
    "    msg.add_attachment(content, maintype='application', subtype='png', filename='dolar.png')\n",
    "    \n",
    "    \n",
    "with open('ibovespa.png', 'rb') as content_file:\n",
    "    content = content_file.read()\n",
    "    msg.add_attachment(content, maintype='application', subtype='png', filename='ibovespa.png')"
   ]
  },
  {
   "cell_type": "code",
   "execution_count": 56,
   "id": "f265b4dc",
   "metadata": {},
   "outputs": [
    {
     "ename": "SMTPResponseException",
     "evalue": "(535, b'5.7.8 Username and Password not accepted. Learn more at\\n5.7.8  https://support.google.com/mail/?p=BadCredentials 5-20020a4a0d05000000b0053b543b027bsm1467000oob.42 - gsmtp')",
     "output_type": "error",
     "traceback": [
      "\u001b[0;31m---------------------------------------------------------------------------\u001b[0m",
      "\u001b[0;31mAttributeError\u001b[0m                            Traceback (most recent call last)",
      "Cell \u001b[0;32mIn[56], line 3\u001b[0m\n\u001b[1;32m      1\u001b[0m \u001b[39mwith\u001b[39;00m smtplib\u001b[39m.\u001b[39mSMTP_SSL(\u001b[39m'\u001b[39m\u001b[39msmtp.gmail.com\u001b[39m\u001b[39m'\u001b[39m, \u001b[39m465\u001b[39m) \u001b[39mas\u001b[39;00m smtp:\n\u001b[0;32m----> 3\u001b[0m     smtp\u001b[39m.\u001b[39;49mlogin(email, senha)\n\u001b[1;32m      4\u001b[0m     smtp\u001b[39m.\u001b[39msend_message(msg)\n",
      "File \u001b[0;32m/usr/lib/python3.10/smtplib.py:739\u001b[0m, in \u001b[0;36mSMTP.login\u001b[0;34m(self, user, password, initial_response_ok)\u001b[0m\n\u001b[1;32m    738\u001b[0m \u001b[39mtry\u001b[39;00m:\n\u001b[0;32m--> 739\u001b[0m     (code, resp) \u001b[39m=\u001b[39m \u001b[39mself\u001b[39;49m\u001b[39m.\u001b[39;49mauth(\n\u001b[1;32m    740\u001b[0m         authmethod, \u001b[39mgetattr\u001b[39;49m(\u001b[39mself\u001b[39;49m, method_name),\n\u001b[1;32m    741\u001b[0m         initial_response_ok\u001b[39m=\u001b[39;49minitial_response_ok)\n\u001b[1;32m    742\u001b[0m     \u001b[39m# 235 == 'Authentication successful'\u001b[39;00m\n\u001b[1;32m    743\u001b[0m     \u001b[39m# 503 == 'Error: already authenticated'\u001b[39;00m\n",
      "File \u001b[0;32m/usr/lib/python3.10/smtplib.py:652\u001b[0m, in \u001b[0;36mSMTP.auth\u001b[0;34m(self, mechanism, authobject, initial_response_ok)\u001b[0m\n\u001b[1;32m    650\u001b[0m challenge \u001b[39m=\u001b[39m base64\u001b[39m.\u001b[39mdecodebytes(resp)\n\u001b[1;32m    651\u001b[0m response \u001b[39m=\u001b[39m encode_base64(\n\u001b[0;32m--> 652\u001b[0m     authobject(challenge)\u001b[39m.\u001b[39;49mencode(\u001b[39m'\u001b[39m\u001b[39mascii\u001b[39m\u001b[39m'\u001b[39m), eol\u001b[39m=\u001b[39m\u001b[39m'\u001b[39m\u001b[39m'\u001b[39m)\n\u001b[1;32m    653\u001b[0m (code, resp) \u001b[39m=\u001b[39m \u001b[39mself\u001b[39m\u001b[39m.\u001b[39mdocmd(response)\n",
      "\u001b[0;31mAttributeError\u001b[0m: 'NoneType' object has no attribute 'encode'",
      "\nDuring handling of the above exception, another exception occurred:\n",
      "\u001b[0;31mSMTPResponseException\u001b[0m                     Traceback (most recent call last)",
      "Cell \u001b[0;32mIn[56], line 1\u001b[0m\n\u001b[0;32m----> 1\u001b[0m \u001b[39mwith\u001b[39;00m smtplib\u001b[39m.\u001b[39mSMTP_SSL(\u001b[39m'\u001b[39m\u001b[39msmtp.gmail.com\u001b[39m\u001b[39m'\u001b[39m, \u001b[39m465\u001b[39m) \u001b[39mas\u001b[39;00m smtp:\n\u001b[1;32m      3\u001b[0m     smtp\u001b[39m.\u001b[39mlogin(email, senha)\n\u001b[1;32m      4\u001b[0m     smtp\u001b[39m.\u001b[39msend_message(msg)\n",
      "File \u001b[0;32m/usr/lib/python3.10/smtplib.py:284\u001b[0m, in \u001b[0;36mSMTP.__exit__\u001b[0;34m(self, *args)\u001b[0m\n\u001b[1;32m    282\u001b[0m     code, message \u001b[39m=\u001b[39m \u001b[39mself\u001b[39m\u001b[39m.\u001b[39mdocmd(\u001b[39m\"\u001b[39m\u001b[39mQUIT\u001b[39m\u001b[39m\"\u001b[39m)\n\u001b[1;32m    283\u001b[0m     \u001b[39mif\u001b[39;00m code \u001b[39m!=\u001b[39m \u001b[39m221\u001b[39m:\n\u001b[0;32m--> 284\u001b[0m         \u001b[39mraise\u001b[39;00m SMTPResponseException(code, message)\n\u001b[1;32m    285\u001b[0m \u001b[39mexcept\u001b[39;00m SMTPServerDisconnected:\n\u001b[1;32m    286\u001b[0m     \u001b[39mpass\u001b[39;00m\n",
      "\u001b[0;31mSMTPResponseException\u001b[0m: (535, b'5.7.8 Username and Password not accepted. Learn more at\\n5.7.8  https://support.google.com/mail/?p=BadCredentials 5-20020a4a0d05000000b0053b543b027bsm1467000oob.42 - gsmtp')"
     ]
    }
   ],
   "source": [
    "with smtplib.SMTP_SSL('smtp.gmail.com', 465) as smtp:\n",
    "    \n",
    "    smtp.login(email, senha)\n",
    "    smtp.send_message(msg)"
   ]
  },
  {
   "cell_type": "code",
   "execution_count": null,
   "id": "47bc9fb1",
   "metadata": {},
   "outputs": [],
   "source": [
    "\n"
   ]
  },
  {
   "cell_type": "code",
   "execution_count": null,
   "id": "0178d9ed",
   "metadata": {},
   "outputs": [],
   "source": []
  },
  {
   "cell_type": "code",
   "execution_count": null,
   "id": "1a559197",
   "metadata": {},
   "outputs": [],
   "source": []
  },
  {
   "cell_type": "code",
   "execution_count": null,
   "id": "ddf92ad4",
   "metadata": {},
   "outputs": [],
   "source": []
  },
  {
   "cell_type": "code",
   "execution_count": null,
   "id": "bb15e5f4",
   "metadata": {},
   "outputs": [],
   "source": []
  },
  {
   "cell_type": "code",
   "execution_count": null,
   "id": "8a3fffbd",
   "metadata": {},
   "outputs": [],
   "source": []
  },
  {
   "cell_type": "code",
   "execution_count": null,
   "id": "347a740d",
   "metadata": {},
   "outputs": [],
   "source": []
  },
  {
   "cell_type": "code",
   "execution_count": null,
   "id": "fc2fec41",
   "metadata": {},
   "outputs": [],
   "source": []
  },
  {
   "cell_type": "code",
   "execution_count": null,
   "id": "614daa23",
   "metadata": {},
   "outputs": [],
   "source": []
  },
  {
   "cell_type": "code",
   "execution_count": null,
   "id": "cddd151c",
   "metadata": {},
   "outputs": [],
   "source": []
  },
  {
   "cell_type": "code",
   "execution_count": null,
   "id": "4bf21526",
   "metadata": {},
   "outputs": [],
   "source": []
  },
  {
   "cell_type": "code",
   "execution_count": null,
   "id": "09b95897",
   "metadata": {},
   "outputs": [],
   "source": []
  },
  {
   "cell_type": "code",
   "execution_count": null,
   "id": "1e799c02",
   "metadata": {},
   "outputs": [],
   "source": []
  },
  {
   "cell_type": "code",
   "execution_count": null,
   "id": "d8cbc417",
   "metadata": {},
   "outputs": [],
   "source": []
  },
  {
   "cell_type": "code",
   "execution_count": null,
   "id": "645a7194",
   "metadata": {},
   "outputs": [],
   "source": []
  }
 ],
 "metadata": {
  "kernelspec": {
   "display_name": "Python 3 (ipykernel)",
   "language": "python",
   "name": "python3"
  },
  "language_info": {
   "codemirror_mode": {
    "name": "ipython",
    "version": 3
   },
   "file_extension": ".py",
   "mimetype": "text/x-python",
   "name": "python",
   "nbconvert_exporter": "python",
   "pygments_lexer": "ipython3",
   "version": "3.10.6"
  }
 },
 "nbformat": 4,
 "nbformat_minor": 5
}
